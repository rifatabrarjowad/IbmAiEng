{
 "cells": [
  {
   "metadata": {},
   "cell_type": "markdown",
   "source": [
    "# Assignment 1: Introduction to Data Analysis with Pandas\n",
    "\n",
    "## 📌 Overview\n",
    "In this assignment, you will practice basic **data analysis** using Python, NumPy, and Pandas.\n",
    "You are provided with a dataset `student_data.csv` that contains information about students, including their **Math scores, Science scores, and Attendance**.\n",
    "\n",
    "The goal is to get hands-on experience with:\n",
    "- Loading CSV data into Pandas\n",
    "- Performing simple statistical analysis\n",
    "- Filtering and selecting data\n",
    "- Creating new columns\n",
    "- Sorting data\n",
    "\n",
    "This assignment is designed for **beginners** who are just starting with Python for data science.\n",
    "\n",
    "---\n",
    "\n",
    "## 📊 Dataset Description\n",
    "The dataset contains the following columns:\n",
    "\n",
    "- **StudentID** → Unique ID for each student\n",
    "- **Name** → Student’s name\n",
    "- **Age** → Student’s age\n",
    "- **Math_Score** → Score in Math (out of 100)\n",
    "- **Science_Score** → Score in Science (out of 100)\n",
    "- **Attendance** → Attendance percentage\n",
    "\n",
    "---\n",
    "\n",
    "## 📝 Tasks\n",
    "\n",
    "### Task 1: Load and Inspect Data\n",
    "- Load the CSV file using Pandas.\n",
    "- Display the first 5 rows of the dataset.\n",
    "\n",
    "---\n",
    "\n",
    "### Task 2: Basic Statistics\n",
    "- Find the **average Math score** and **average Science score**.\n",
    "- Find the **maximum attendance**.\n",
    "\n",
    "---\n",
    "\n",
    "### Task 3: Filtering Data\n",
    "- Select all students who scored **more than 80 in Math**.\n",
    "- Select all students with **attendance below 70**.\n",
    "\n",
    "---\n",
    "\n",
    "### Task 4: Creating a New Column\n",
    "- Create a new column called **`Average_Score`** = (Math_Score + Science_Score) / 2.\n",
    "- Display the dataset with this new column.\n",
    "\n",
    "---\n",
    "\n",
    "### Task 5: Sorting Data\n",
    "- Sort the dataset by `Average_Score` in **descending order**.\n",
    "- Display the **top 3 students**.\n",
    "\n",
    "---\n",
    "\n",
    "## ✅ Submission\n",
    "- Save your completed work in a Jupyter Notebook (`.ipynb`).\n",
    "- Make sure each task is clearly labeled with headings.\n",
    "- Upload your notebook once finished.\n",
    "\n",
    "Good luck 🎉 and have fun exploring your first dataset!\n"
   ],
   "id": "4e5d31b4262683e1"
  },
  {
   "metadata": {},
   "cell_type": "markdown",
   "source": [
    "\n",
    "# Assignment 1 — Solution: Introduction to Data Analysis with Pandas\n",
    "\n",
    "\n"
   ],
   "id": "c6244bf13337cbe4"
  },
  {
   "metadata": {
    "ExecuteTime": {
     "end_time": "2025-08-20T12:22:07.584124Z",
     "start_time": "2025-08-20T12:22:07.330407Z"
    }
   },
   "cell_type": "code",
   "source": [
    "#Installing Libraries\n",
    "!pip install pandas numpy"
   ],
   "id": "d4135981a8c26ea8",
   "outputs": [],
   "execution_count": 7
  },
  {
   "metadata": {
    "ExecuteTime": {
     "end_time": "2025-08-20T12:22:39.910403Z",
     "start_time": "2025-08-20T12:22:39.908305Z"
    }
   },
   "cell_type": "code",
   "source": [
    "#Importing Libraries\n",
    "import pandas as pd\n",
    "import numpy as np"
   ],
   "id": "fcab069aa5d024ee",
   "outputs": [],
   "execution_count": 8
  },
  {
   "metadata": {},
   "cell_type": "markdown",
   "source": "## Task 1",
   "id": "4cffa5efd915a837"
  },
  {
   "metadata": {
    "ExecuteTime": {
     "end_time": "2025-08-20T12:28:49.819878Z",
     "start_time": "2025-08-20T12:28:49.815700Z"
    }
   },
   "cell_type": "code",
   "source": [
    "#Loading the data\n",
    "df = pd.read_csv('student_data.csv')"
   ],
   "id": "722cb2d4b0fb7d53",
   "outputs": [],
   "execution_count": 10
  },
  {
   "metadata": {
    "ExecuteTime": {
     "end_time": "2025-08-20T12:29:13.053738Z",
     "start_time": "2025-08-20T12:29:13.045Z"
    }
   },
   "cell_type": "code",
   "source": [
    "#Displaying the first 5 row\n",
    "df.head()"
   ],
   "id": "a444f1bd3ddfcd5c",
   "outputs": [
    {
     "data": {
      "text/plain": [
       "   StudentID     Name  Age  Math_Score  Science_Score  Attendance\n",
       "0          1    Alice   20          85             80          90\n",
       "1          2      Bob   21          67             70          75\n",
       "2          3  Charlie   19          90             85          95\n",
       "3          4    David   22          45             50          60\n",
       "4          5      Eva   20          78             76          85"
      ],
      "text/html": [
       "<div>\n",
       "<style scoped>\n",
       "    .dataframe tbody tr th:only-of-type {\n",
       "        vertical-align: middle;\n",
       "    }\n",
       "\n",
       "    .dataframe tbody tr th {\n",
       "        vertical-align: top;\n",
       "    }\n",
       "\n",
       "    .dataframe thead th {\n",
       "        text-align: right;\n",
       "    }\n",
       "</style>\n",
       "<table border=\"1\" class=\"dataframe\">\n",
       "  <thead>\n",
       "    <tr style=\"text-align: right;\">\n",
       "      <th></th>\n",
       "      <th>StudentID</th>\n",
       "      <th>Name</th>\n",
       "      <th>Age</th>\n",
       "      <th>Math_Score</th>\n",
       "      <th>Science_Score</th>\n",
       "      <th>Attendance</th>\n",
       "    </tr>\n",
       "  </thead>\n",
       "  <tbody>\n",
       "    <tr>\n",
       "      <th>0</th>\n",
       "      <td>1</td>\n",
       "      <td>Alice</td>\n",
       "      <td>20</td>\n",
       "      <td>85</td>\n",
       "      <td>80</td>\n",
       "      <td>90</td>\n",
       "    </tr>\n",
       "    <tr>\n",
       "      <th>1</th>\n",
       "      <td>2</td>\n",
       "      <td>Bob</td>\n",
       "      <td>21</td>\n",
       "      <td>67</td>\n",
       "      <td>70</td>\n",
       "      <td>75</td>\n",
       "    </tr>\n",
       "    <tr>\n",
       "      <th>2</th>\n",
       "      <td>3</td>\n",
       "      <td>Charlie</td>\n",
       "      <td>19</td>\n",
       "      <td>90</td>\n",
       "      <td>85</td>\n",
       "      <td>95</td>\n",
       "    </tr>\n",
       "    <tr>\n",
       "      <th>3</th>\n",
       "      <td>4</td>\n",
       "      <td>David</td>\n",
       "      <td>22</td>\n",
       "      <td>45</td>\n",
       "      <td>50</td>\n",
       "      <td>60</td>\n",
       "    </tr>\n",
       "    <tr>\n",
       "      <th>4</th>\n",
       "      <td>5</td>\n",
       "      <td>Eva</td>\n",
       "      <td>20</td>\n",
       "      <td>78</td>\n",
       "      <td>76</td>\n",
       "      <td>85</td>\n",
       "    </tr>\n",
       "  </tbody>\n",
       "</table>\n",
       "</div>"
      ]
     },
     "execution_count": 11,
     "metadata": {},
     "output_type": "execute_result"
    }
   ],
   "execution_count": 11
  },
  {
   "metadata": {},
   "cell_type": "markdown",
   "source": "## Task 2\n",
   "id": "ae6401df5b7a6a78"
  },
  {
   "metadata": {},
   "cell_type": "code",
   "outputs": [],
   "execution_count": null,
   "source": "",
   "id": "f88d93f585e5e585"
  }
 ],
 "metadata": {
  "kernelspec": {
   "display_name": "Python 3",
   "language": "python",
   "name": "python3"
  },
  "language_info": {
   "codemirror_mode": {
    "name": "ipython",
    "version": 2
   },
   "file_extension": ".py",
   "mimetype": "text/x-python",
   "name": "python",
   "nbconvert_exporter": "python",
   "pygments_lexer": "ipython2",
   "version": "2.7.6"
  }
 },
 "nbformat": 4,
 "nbformat_minor": 5
}
