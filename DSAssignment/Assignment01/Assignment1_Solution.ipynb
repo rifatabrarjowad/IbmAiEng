{
 "cells": [
  {
   "metadata": {},
   "cell_type": "markdown",
   "source": [
    "# Assignment 1: Introduction to Data Analysis with Pandas\n",
    "\n",
    "## 📌 Overview\n",
    "In this assignment, you will practice basic **data analysis** using Python, NumPy, and Pandas.\n",
    "You are provided with a dataset `student_data.csv` that contains information about students, including their **Math scores, Science scores, and Attendance**.\n",
    "\n",
    "The goal is to get hands-on experience with:\n",
    "- Loading CSV data into Pandas\n",
    "- Performing simple statistical analysis\n",
    "- Filtering and selecting data\n",
    "- Creating new columns\n",
    "- Sorting data\n",
    "\n",
    "This assignment is designed for **beginners** who are just starting with Python for data science.\n",
    "\n",
    "---\n",
    "\n",
    "## 📊 Dataset Description\n",
    "The dataset contains the following columns:\n",
    "\n",
    "- **StudentID** → Unique ID for each student\n",
    "- **Name** → Student’s name\n",
    "- **Age** → Student’s age\n",
    "- **Math_Score** → Score in Math (out of 100)\n",
    "- **Science_Score** → Score in Science (out of 100)\n",
    "- **Attendance** → Attendance percentage\n",
    "\n",
    "---\n",
    "\n",
    "## 📝 Tasks\n",
    "\n",
    "### Task 1: Load and Inspect Data\n",
    "- Load the CSV file using Pandas.\n",
    "- Display the first 5 rows of the dataset.\n",
    "\n",
    "---\n",
    "\n",
    "### Task 2: Basic Statistics\n",
    "- Find the **average Math score** and **average Science score**.\n",
    "- Find the **maximum attendance**.\n",
    "\n",
    "---\n",
    "\n",
    "### Task 3: Filtering Data\n",
    "- Select all students who scored **more than 80 in Math**.\n",
    "- Select all students with **attendance below 70**.\n",
    "\n",
    "---\n",
    "\n",
    "### Task 4: Creating a New Column\n",
    "- Create a new column called **`Average_Score`** = (Math_Score + Science_Score) / 2.\n",
    "- Display the dataset with this new column.\n",
    "\n",
    "---\n",
    "\n",
    "### Task 5: Sorting Data\n",
    "- Sort the dataset by `Average_Score` in **descending order**.\n",
    "- Display the **top 3 students**.\n",
    "\n",
    "---\n",
    "\n",
    "## ✅ Submission\n",
    "- Save your completed work in a Jupyter Notebook (`.ipynb`).\n",
    "- Make sure each task is clearly labeled with headings.\n",
    "- Upload your notebook once finished.\n",
    "\n",
    "Good luck 🎉 and have fun exploring your first dataset!\n"
   ],
   "id": "4e5d31b4262683e1"
  },
  {
   "metadata": {},
   "cell_type": "markdown",
   "source": [
    "\n",
    "# Assignment 1 — Solution: Introduction to Data Analysis with Pandas\n",
    "\n",
    "\n"
   ],
   "id": "c6244bf13337cbe4"
  },
  {
   "metadata": {
    "ExecuteTime": {
     "end_time": "2025-08-20T12:22:07.584124Z",
     "start_time": "2025-08-20T12:22:07.330407Z"
    }
   },
   "cell_type": "code",
   "source": [
    "#Installing Libraries\n",
    "!pip install pandas numpy"
   ],
   "id": "d4135981a8c26ea8",
   "outputs": [],
   "execution_count": 7
  },
  {
   "metadata": {
    "ExecuteTime": {
     "end_time": "2025-08-20T12:22:39.910403Z",
     "start_time": "2025-08-20T12:22:39.908305Z"
    }
   },
   "cell_type": "code",
   "source": [
    "#Importing Libraries\n",
    "import pandas as pd\n",
    "import numpy as np"
   ],
   "id": "fcab069aa5d024ee",
   "outputs": [],
   "execution_count": 8
  },
  {
   "metadata": {},
   "cell_type": "markdown",
   "source": "## Task 1",
   "id": "4cffa5efd915a837"
  },
  {
   "metadata": {
    "ExecuteTime": {
     "end_time": "2025-08-20T12:28:49.819878Z",
     "start_time": "2025-08-20T12:28:49.815700Z"
    }
   },
   "cell_type": "code",
   "source": [
    "#Loading the data\n",
    "df = pd.read_csv('student_data.csv')"
   ],
   "id": "722cb2d4b0fb7d53",
   "outputs": [],
   "execution_count": 10
  },
  {
   "metadata": {
    "ExecuteTime": {
     "end_time": "2025-08-20T12:29:13.053738Z",
     "start_time": "2025-08-20T12:29:13.045Z"
    }
   },
   "cell_type": "code",
   "source": [
    "#Displaying the first 5 row\n",
    "df.head()"
   ],
   "id": "a444f1bd3ddfcd5c",
   "outputs": [
    {
     "data": {
      "text/plain": [
       "   StudentID     Name  Age  Math_Score  Science_Score  Attendance\n",
       "0          1    Alice   20          85             80          90\n",
       "1          2      Bob   21          67             70          75\n",
       "2          3  Charlie   19          90             85          95\n",
       "3          4    David   22          45             50          60\n",
       "4          5      Eva   20          78             76          85"
      ],
      "text/html": [
       "<div>\n",
       "<style scoped>\n",
       "    .dataframe tbody tr th:only-of-type {\n",
       "        vertical-align: middle;\n",
       "    }\n",
       "\n",
       "    .dataframe tbody tr th {\n",
       "        vertical-align: top;\n",
       "    }\n",
       "\n",
       "    .dataframe thead th {\n",
       "        text-align: right;\n",
       "    }\n",
       "</style>\n",
       "<table border=\"1\" class=\"dataframe\">\n",
       "  <thead>\n",
       "    <tr style=\"text-align: right;\">\n",
       "      <th></th>\n",
       "      <th>StudentID</th>\n",
       "      <th>Name</th>\n",
       "      <th>Age</th>\n",
       "      <th>Math_Score</th>\n",
       "      <th>Science_Score</th>\n",
       "      <th>Attendance</th>\n",
       "    </tr>\n",
       "  </thead>\n",
       "  <tbody>\n",
       "    <tr>\n",
       "      <th>0</th>\n",
       "      <td>1</td>\n",
       "      <td>Alice</td>\n",
       "      <td>20</td>\n",
       "      <td>85</td>\n",
       "      <td>80</td>\n",
       "      <td>90</td>\n",
       "    </tr>\n",
       "    <tr>\n",
       "      <th>1</th>\n",
       "      <td>2</td>\n",
       "      <td>Bob</td>\n",
       "      <td>21</td>\n",
       "      <td>67</td>\n",
       "      <td>70</td>\n",
       "      <td>75</td>\n",
       "    </tr>\n",
       "    <tr>\n",
       "      <th>2</th>\n",
       "      <td>3</td>\n",
       "      <td>Charlie</td>\n",
       "      <td>19</td>\n",
       "      <td>90</td>\n",
       "      <td>85</td>\n",
       "      <td>95</td>\n",
       "    </tr>\n",
       "    <tr>\n",
       "      <th>3</th>\n",
       "      <td>4</td>\n",
       "      <td>David</td>\n",
       "      <td>22</td>\n",
       "      <td>45</td>\n",
       "      <td>50</td>\n",
       "      <td>60</td>\n",
       "    </tr>\n",
       "    <tr>\n",
       "      <th>4</th>\n",
       "      <td>5</td>\n",
       "      <td>Eva</td>\n",
       "      <td>20</td>\n",
       "      <td>78</td>\n",
       "      <td>76</td>\n",
       "      <td>85</td>\n",
       "    </tr>\n",
       "  </tbody>\n",
       "</table>\n",
       "</div>"
      ]
     },
     "execution_count": 11,
     "metadata": {},
     "output_type": "execute_result"
    }
   ],
   "execution_count": 11
  },
  {
   "metadata": {},
   "cell_type": "markdown",
   "source": "## Task 2\n",
   "id": "65f9e39924dc96b0"
  },
  {
   "metadata": {
    "ExecuteTime": {
     "end_time": "2025-08-20T12:42:40.655953Z",
     "start_time": "2025-08-20T12:42:40.652308Z"
    }
   },
   "cell_type": "code",
   "source": [
    "math_ave = df['Math_Score'].mean()\n",
    "sci_ave = df['Science_Score'].mean()\n",
    "max_attendance = df['Attendance'].max()"
   ],
   "id": "f88d93f585e5e585",
   "outputs": [],
   "execution_count": 14
  },
  {
   "metadata": {
    "ExecuteTime": {
     "end_time": "2025-08-20T12:48:27.716789Z",
     "start_time": "2025-08-20T12:48:27.714232Z"
    }
   },
   "cell_type": "code",
   "source": [
    "print(math_ave)\n",
    "print(sci_ave)\n",
    "print(max_attendance)"
   ],
   "id": "6b417cbb5e9858e2",
   "outputs": [
    {
     "name": "stdout",
     "output_type": "stream",
     "text": [
      "73.2\n",
      "73.6\n",
      "98\n"
     ]
    }
   ],
   "execution_count": 16
  },
  {
   "metadata": {},
   "cell_type": "markdown",
   "source": "## Task 3\n",
   "id": "184ab6fbe6438f10"
  },
  {
   "metadata": {
    "ExecuteTime": {
     "end_time": "2025-08-20T13:02:12.659313Z",
     "start_time": "2025-08-20T13:02:12.651573Z"
    }
   },
   "cell_type": "code",
   "source": [
    "higherScored_studentMath = df[df['Math_Score']>80]\n",
    "lowAttendance_student = df[df['Attendance']<70]\n",
    "higherScored_studentMath, lowAttendance_student"
   ],
   "id": "73f8c0fb6357403d",
   "outputs": [
    {
     "data": {
      "text/plain": [
       "(   StudentID     Name  Age  Math_Score  Science_Score  Attendance\n",
       " 0          1    Alice   20          85             80          90\n",
       " 2          3  Charlie   19          90             85          95\n",
       " 5          6    Frank   23          88             90          92\n",
       " 7          8    Helen   19          92             88          98,\n",
       "    StudentID   Name  Age  Math_Score  Science_Score  Attendance\n",
       " 3          4  David   22          45             50          60\n",
       " 9         10   Jack   20          60             65          68)"
      ]
     },
     "execution_count": 17,
     "metadata": {},
     "output_type": "execute_result"
    }
   ],
   "execution_count": 17
  },
  {
   "metadata": {},
   "cell_type": "markdown",
   "source": "## Task 4\n",
   "id": "38c99fd02ce91b03"
  },
  {
   "metadata": {
    "ExecuteTime": {
     "end_time": "2025-08-20T13:08:36.202461Z",
     "start_time": "2025-08-20T13:08:36.180341Z"
    }
   },
   "cell_type": "code",
   "source": [
    "df = df.copy()\n",
    "df['Average_Score'] = (df['Math_Score']+df['Science_Score'])/2\n",
    "df.head()"
   ],
   "id": "2f02d1ab7264ecde",
   "outputs": [
    {
     "data": {
      "text/plain": [
       "   StudentID     Name  Age  Math_Score  Science_Score  Attendance  \\\n",
       "0          1    Alice   20          85             80          90   \n",
       "1          2      Bob   21          67             70          75   \n",
       "2          3  Charlie   19          90             85          95   \n",
       "3          4    David   22          45             50          60   \n",
       "4          5      Eva   20          78             76          85   \n",
       "\n",
       "   Average_Score  \n",
       "0           82.5  \n",
       "1           68.5  \n",
       "2           87.5  \n",
       "3           47.5  \n",
       "4           77.0  "
      ],
      "text/html": [
       "<div>\n",
       "<style scoped>\n",
       "    .dataframe tbody tr th:only-of-type {\n",
       "        vertical-align: middle;\n",
       "    }\n",
       "\n",
       "    .dataframe tbody tr th {\n",
       "        vertical-align: top;\n",
       "    }\n",
       "\n",
       "    .dataframe thead th {\n",
       "        text-align: right;\n",
       "    }\n",
       "</style>\n",
       "<table border=\"1\" class=\"dataframe\">\n",
       "  <thead>\n",
       "    <tr style=\"text-align: right;\">\n",
       "      <th></th>\n",
       "      <th>StudentID</th>\n",
       "      <th>Name</th>\n",
       "      <th>Age</th>\n",
       "      <th>Math_Score</th>\n",
       "      <th>Science_Score</th>\n",
       "      <th>Attendance</th>\n",
       "      <th>Average_Score</th>\n",
       "    </tr>\n",
       "  </thead>\n",
       "  <tbody>\n",
       "    <tr>\n",
       "      <th>0</th>\n",
       "      <td>1</td>\n",
       "      <td>Alice</td>\n",
       "      <td>20</td>\n",
       "      <td>85</td>\n",
       "      <td>80</td>\n",
       "      <td>90</td>\n",
       "      <td>82.5</td>\n",
       "    </tr>\n",
       "    <tr>\n",
       "      <th>1</th>\n",
       "      <td>2</td>\n",
       "      <td>Bob</td>\n",
       "      <td>21</td>\n",
       "      <td>67</td>\n",
       "      <td>70</td>\n",
       "      <td>75</td>\n",
       "      <td>68.5</td>\n",
       "    </tr>\n",
       "    <tr>\n",
       "      <th>2</th>\n",
       "      <td>3</td>\n",
       "      <td>Charlie</td>\n",
       "      <td>19</td>\n",
       "      <td>90</td>\n",
       "      <td>85</td>\n",
       "      <td>95</td>\n",
       "      <td>87.5</td>\n",
       "    </tr>\n",
       "    <tr>\n",
       "      <th>3</th>\n",
       "      <td>4</td>\n",
       "      <td>David</td>\n",
       "      <td>22</td>\n",
       "      <td>45</td>\n",
       "      <td>50</td>\n",
       "      <td>60</td>\n",
       "      <td>47.5</td>\n",
       "    </tr>\n",
       "    <tr>\n",
       "      <th>4</th>\n",
       "      <td>5</td>\n",
       "      <td>Eva</td>\n",
       "      <td>20</td>\n",
       "      <td>78</td>\n",
       "      <td>76</td>\n",
       "      <td>85</td>\n",
       "      <td>77.0</td>\n",
       "    </tr>\n",
       "  </tbody>\n",
       "</table>\n",
       "</div>"
      ]
     },
     "execution_count": 18,
     "metadata": {},
     "output_type": "execute_result"
    }
   ],
   "execution_count": 18
  },
  {
   "metadata": {},
   "cell_type": "markdown",
   "source": "## Task 5\n",
   "id": "69dcde5ad5ebd6b8"
  },
  {
   "metadata": {
    "ExecuteTime": {
     "end_time": "2025-08-20T13:12:41.613486Z",
     "start_time": "2025-08-20T13:12:41.610843Z"
    }
   },
   "cell_type": "code",
   "source": "top = df.sort_values(by=\"Average_Score\", ascending=False)",
   "id": "fe5a597ce435a436",
   "outputs": [],
   "execution_count": 20
  },
  {
   "metadata": {
    "ExecuteTime": {
     "end_time": "2025-08-20T13:12:44.192387Z",
     "start_time": "2025-08-20T13:12:44.185694Z"
    }
   },
   "cell_type": "code",
   "source": "top",
   "id": "690de6ffb02cc1af",
   "outputs": [
    {
     "data": {
      "text/plain": [
       "   StudentID     Name  Age  Math_Score  Science_Score  Attendance  \\\n",
       "7          8    Helen   19          92             88          98   \n",
       "5          6    Frank   23          88             90          92   \n",
       "2          3  Charlie   19          90             85          95   \n",
       "0          1    Alice   20          85             80          90   \n",
       "4          5      Eva   20          78             76          85   \n",
       "8          9      Ian   22          71             72          80   \n",
       "1          2      Bob   21          67             70          75   \n",
       "9         10     Jack   20          60             65          68   \n",
       "6          7    Grace   21          56             60          70   \n",
       "3          4    David   22          45             50          60   \n",
       "\n",
       "   Average_Score  \n",
       "7           90.0  \n",
       "5           89.0  \n",
       "2           87.5  \n",
       "0           82.5  \n",
       "4           77.0  \n",
       "8           71.5  \n",
       "1           68.5  \n",
       "9           62.5  \n",
       "6           58.0  \n",
       "3           47.5  "
      ],
      "text/html": [
       "<div>\n",
       "<style scoped>\n",
       "    .dataframe tbody tr th:only-of-type {\n",
       "        vertical-align: middle;\n",
       "    }\n",
       "\n",
       "    .dataframe tbody tr th {\n",
       "        vertical-align: top;\n",
       "    }\n",
       "\n",
       "    .dataframe thead th {\n",
       "        text-align: right;\n",
       "    }\n",
       "</style>\n",
       "<table border=\"1\" class=\"dataframe\">\n",
       "  <thead>\n",
       "    <tr style=\"text-align: right;\">\n",
       "      <th></th>\n",
       "      <th>StudentID</th>\n",
       "      <th>Name</th>\n",
       "      <th>Age</th>\n",
       "      <th>Math_Score</th>\n",
       "      <th>Science_Score</th>\n",
       "      <th>Attendance</th>\n",
       "      <th>Average_Score</th>\n",
       "    </tr>\n",
       "  </thead>\n",
       "  <tbody>\n",
       "    <tr>\n",
       "      <th>7</th>\n",
       "      <td>8</td>\n",
       "      <td>Helen</td>\n",
       "      <td>19</td>\n",
       "      <td>92</td>\n",
       "      <td>88</td>\n",
       "      <td>98</td>\n",
       "      <td>90.0</td>\n",
       "    </tr>\n",
       "    <tr>\n",
       "      <th>5</th>\n",
       "      <td>6</td>\n",
       "      <td>Frank</td>\n",
       "      <td>23</td>\n",
       "      <td>88</td>\n",
       "      <td>90</td>\n",
       "      <td>92</td>\n",
       "      <td>89.0</td>\n",
       "    </tr>\n",
       "    <tr>\n",
       "      <th>2</th>\n",
       "      <td>3</td>\n",
       "      <td>Charlie</td>\n",
       "      <td>19</td>\n",
       "      <td>90</td>\n",
       "      <td>85</td>\n",
       "      <td>95</td>\n",
       "      <td>87.5</td>\n",
       "    </tr>\n",
       "    <tr>\n",
       "      <th>0</th>\n",
       "      <td>1</td>\n",
       "      <td>Alice</td>\n",
       "      <td>20</td>\n",
       "      <td>85</td>\n",
       "      <td>80</td>\n",
       "      <td>90</td>\n",
       "      <td>82.5</td>\n",
       "    </tr>\n",
       "    <tr>\n",
       "      <th>4</th>\n",
       "      <td>5</td>\n",
       "      <td>Eva</td>\n",
       "      <td>20</td>\n",
       "      <td>78</td>\n",
       "      <td>76</td>\n",
       "      <td>85</td>\n",
       "      <td>77.0</td>\n",
       "    </tr>\n",
       "    <tr>\n",
       "      <th>8</th>\n",
       "      <td>9</td>\n",
       "      <td>Ian</td>\n",
       "      <td>22</td>\n",
       "      <td>71</td>\n",
       "      <td>72</td>\n",
       "      <td>80</td>\n",
       "      <td>71.5</td>\n",
       "    </tr>\n",
       "    <tr>\n",
       "      <th>1</th>\n",
       "      <td>2</td>\n",
       "      <td>Bob</td>\n",
       "      <td>21</td>\n",
       "      <td>67</td>\n",
       "      <td>70</td>\n",
       "      <td>75</td>\n",
       "      <td>68.5</td>\n",
       "    </tr>\n",
       "    <tr>\n",
       "      <th>9</th>\n",
       "      <td>10</td>\n",
       "      <td>Jack</td>\n",
       "      <td>20</td>\n",
       "      <td>60</td>\n",
       "      <td>65</td>\n",
       "      <td>68</td>\n",
       "      <td>62.5</td>\n",
       "    </tr>\n",
       "    <tr>\n",
       "      <th>6</th>\n",
       "      <td>7</td>\n",
       "      <td>Grace</td>\n",
       "      <td>21</td>\n",
       "      <td>56</td>\n",
       "      <td>60</td>\n",
       "      <td>70</td>\n",
       "      <td>58.0</td>\n",
       "    </tr>\n",
       "    <tr>\n",
       "      <th>3</th>\n",
       "      <td>4</td>\n",
       "      <td>David</td>\n",
       "      <td>22</td>\n",
       "      <td>45</td>\n",
       "      <td>50</td>\n",
       "      <td>60</td>\n",
       "      <td>47.5</td>\n",
       "    </tr>\n",
       "  </tbody>\n",
       "</table>\n",
       "</div>"
      ]
     },
     "execution_count": 21,
     "metadata": {},
     "output_type": "execute_result"
    }
   ],
   "execution_count": 21
  },
  {
   "metadata": {
    "ExecuteTime": {
     "end_time": "2025-08-20T13:12:51.927691Z",
     "start_time": "2025-08-20T13:12:51.921509Z"
    }
   },
   "cell_type": "code",
   "source": "top.head(3)",
   "id": "f3863aafb7af6a62",
   "outputs": [
    {
     "data": {
      "text/plain": [
       "   StudentID     Name  Age  Math_Score  Science_Score  Attendance  \\\n",
       "7          8    Helen   19          92             88          98   \n",
       "5          6    Frank   23          88             90          92   \n",
       "2          3  Charlie   19          90             85          95   \n",
       "\n",
       "   Average_Score  \n",
       "7           90.0  \n",
       "5           89.0  \n",
       "2           87.5  "
      ],
      "text/html": [
       "<div>\n",
       "<style scoped>\n",
       "    .dataframe tbody tr th:only-of-type {\n",
       "        vertical-align: middle;\n",
       "    }\n",
       "\n",
       "    .dataframe tbody tr th {\n",
       "        vertical-align: top;\n",
       "    }\n",
       "\n",
       "    .dataframe thead th {\n",
       "        text-align: right;\n",
       "    }\n",
       "</style>\n",
       "<table border=\"1\" class=\"dataframe\">\n",
       "  <thead>\n",
       "    <tr style=\"text-align: right;\">\n",
       "      <th></th>\n",
       "      <th>StudentID</th>\n",
       "      <th>Name</th>\n",
       "      <th>Age</th>\n",
       "      <th>Math_Score</th>\n",
       "      <th>Science_Score</th>\n",
       "      <th>Attendance</th>\n",
       "      <th>Average_Score</th>\n",
       "    </tr>\n",
       "  </thead>\n",
       "  <tbody>\n",
       "    <tr>\n",
       "      <th>7</th>\n",
       "      <td>8</td>\n",
       "      <td>Helen</td>\n",
       "      <td>19</td>\n",
       "      <td>92</td>\n",
       "      <td>88</td>\n",
       "      <td>98</td>\n",
       "      <td>90.0</td>\n",
       "    </tr>\n",
       "    <tr>\n",
       "      <th>5</th>\n",
       "      <td>6</td>\n",
       "      <td>Frank</td>\n",
       "      <td>23</td>\n",
       "      <td>88</td>\n",
       "      <td>90</td>\n",
       "      <td>92</td>\n",
       "      <td>89.0</td>\n",
       "    </tr>\n",
       "    <tr>\n",
       "      <th>2</th>\n",
       "      <td>3</td>\n",
       "      <td>Charlie</td>\n",
       "      <td>19</td>\n",
       "      <td>90</td>\n",
       "      <td>85</td>\n",
       "      <td>95</td>\n",
       "      <td>87.5</td>\n",
       "    </tr>\n",
       "  </tbody>\n",
       "</table>\n",
       "</div>"
      ]
     },
     "execution_count": 22,
     "metadata": {},
     "output_type": "execute_result"
    }
   ],
   "execution_count": 22
  }
 ],
 "metadata": {
  "kernelspec": {
   "display_name": "Python 3",
   "language": "python",
   "name": "python3"
  },
  "language_info": {
   "codemirror_mode": {
    "name": "ipython",
    "version": 2
   },
   "file_extension": ".py",
   "mimetype": "text/x-python",
   "name": "python",
   "nbconvert_exporter": "python",
   "pygments_lexer": "ipython2",
   "version": "2.7.6"
  }
 },
 "nbformat": 4,
 "nbformat_minor": 5
}
