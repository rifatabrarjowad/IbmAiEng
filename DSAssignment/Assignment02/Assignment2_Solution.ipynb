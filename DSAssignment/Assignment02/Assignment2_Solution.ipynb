{
 "cells": [
  {
   "metadata": {},
   "cell_type": "markdown",
   "source": [
    "# Assignment 2: Online Store Sales Analysis\n",
    "\n",
    "## 📌 Overview\n",
    "In this assignment, you will analyze a small dataset of online store sales using **Pandas**.\n",
    "The dataset `store_sales.csv` contains information about sales transactions, including product details, prices, and countries.\n",
    "\n",
    "Your goal is to practice:\n",
    "- Loading CSV files into Pandas\n",
    "- Calculating statistics\n",
    "- Filtering and selecting data\n",
    "- Grouping and aggregating\n",
    "- Sorting results\n",
    "\n",
    "---\n",
    "\n",
    "## 📊 Dataset Description\n",
    "The dataset contains the following columns:\n",
    "\n",
    "- **OrderID** → Unique ID for each order\n",
    "- **Product** → Name of the product\n",
    "- **Category** → Category of the product (Electronics, Clothing, Accessories)\n",
    "- **Quantity** → Number of units purchased\n",
    "- **Price** → Price of a single unit\n",
    "- **Total_Sale** → Total sale amount (`Quantity × Price`)\n",
    "- **Country** → Country where the order was placed\n",
    "\n",
    "---\n",
    "\n",
    "## 📝 Tasks\n",
    "\n",
    "### Task 1: Load and Inspect Data\n",
    "- Load the dataset into Pandas.\n",
    "- Display the first 5 rows.\n",
    "\n",
    "---\n",
    "\n",
    "### Task 2: Basic Statistics\n",
    "- Find the total number of orders.\n",
    "- Find the **total revenue** (sum of `Total_Sale`).\n",
    "\n",
    "---\n",
    "\n",
    "### Task 3: Filtering Data\n",
    "- Select all orders from **USA**.\n",
    "- Select all orders where `Quantity > 2`.\n",
    "\n",
    "---\n",
    "\n",
    "### Task 4: Grouping and Aggregation\n",
    "- Find the **total sales by Category**.\n",
    "- Find the **total sales by Country**.\n",
    "\n",
    "---\n",
    "\n",
    "### Task 5: Sorting\n",
    "- Sort products by `Total_Sale` in descending order.\n",
    "- Display the **top 3 highest sale transactions**.\n",
    "\n",
    "---\n"
   ],
   "id": "62e620b49ee0ab0d"
  },
  {
   "metadata": {},
   "cell_type": "markdown",
   "source": "# Assignment 2 — Solution: Online Store Sales Analysis\n",
   "id": "466aea897314bc9c"
  },
  {
   "metadata": {
    "ExecuteTime": {
     "end_time": "2025-08-21T06:53:56.317460Z",
     "start_time": "2025-08-21T06:53:56.314192Z"
    }
   },
   "cell_type": "code",
   "source": [
    "from tornado.gen import multi\n",
    "#Installing Libraries\n",
    "!pip install pandas numpy"
   ],
   "id": "d8772f0dd7fc29e1",
   "outputs": [],
   "execution_count": null
  },
  {
   "metadata": {
    "ExecuteTime": {
     "end_time": "2025-08-21T06:58:50.961540Z",
     "start_time": "2025-08-21T06:58:50.585558Z"
    }
   },
   "cell_type": "code",
   "source": [
    "#Importing Libraries\n",
    "import pandas as pd"
   ],
   "id": "bc99cd22913e81cb",
   "outputs": [],
   "execution_count": 1
  },
  {
   "metadata": {},
   "cell_type": "markdown",
   "source": "## Task 1\n",
   "id": "57d43bbf20946fb1"
  },
  {
   "metadata": {
    "ExecuteTime": {
     "end_time": "2025-08-21T07:02:33.574913Z",
     "start_time": "2025-08-21T07:02:33.570199Z"
    }
   },
   "cell_type": "code",
   "source": [
    "#loading the data\n",
    "df = pd.read_csv('store_sales.csv')"
   ],
   "id": "53584d17bda330cd",
   "outputs": [],
   "execution_count": 5
  },
  {
   "metadata": {
    "ExecuteTime": {
     "end_time": "2025-08-21T07:02:34.722573Z",
     "start_time": "2025-08-21T07:02:34.716295Z"
    }
   },
   "cell_type": "code",
   "source": "df",
   "id": "736efed4626b591a",
   "outputs": [
    {
     "data": {
      "text/plain": [
       "   OrderID     Product     Category  Quantity  Price  Total_Sale Country\n",
       "0        1      Laptop  Electronics         2    800        1600     USA\n",
       "1        2  Headphones  Electronics         5     50         250  Canada\n",
       "2        3     T-Shirt     Clothing         3     20          60     USA\n",
       "3        4       Shoes     Clothing         1    100         100      UK\n",
       "4        5  Phone Case  Accessories         4     15          60  Canada\n",
       "5        6    Keyboard  Electronics         2     40          80     USA\n",
       "6        7      Jacket     Clothing         2     60         120      UK\n",
       "7        8  Smartwatch  Electronics         1    200         200     USA\n",
       "8        9         Bag  Accessories         3     30          90  Canada\n",
       "9       10     Monitor  Electronics         1    150         150     USA"
      ],
      "text/html": [
       "<div>\n",
       "<style scoped>\n",
       "    .dataframe tbody tr th:only-of-type {\n",
       "        vertical-align: middle;\n",
       "    }\n",
       "\n",
       "    .dataframe tbody tr th {\n",
       "        vertical-align: top;\n",
       "    }\n",
       "\n",
       "    .dataframe thead th {\n",
       "        text-align: right;\n",
       "    }\n",
       "</style>\n",
       "<table border=\"1\" class=\"dataframe\">\n",
       "  <thead>\n",
       "    <tr style=\"text-align: right;\">\n",
       "      <th></th>\n",
       "      <th>OrderID</th>\n",
       "      <th>Product</th>\n",
       "      <th>Category</th>\n",
       "      <th>Quantity</th>\n",
       "      <th>Price</th>\n",
       "      <th>Total_Sale</th>\n",
       "      <th>Country</th>\n",
       "    </tr>\n",
       "  </thead>\n",
       "  <tbody>\n",
       "    <tr>\n",
       "      <th>0</th>\n",
       "      <td>1</td>\n",
       "      <td>Laptop</td>\n",
       "      <td>Electronics</td>\n",
       "      <td>2</td>\n",
       "      <td>800</td>\n",
       "      <td>1600</td>\n",
       "      <td>USA</td>\n",
       "    </tr>\n",
       "    <tr>\n",
       "      <th>1</th>\n",
       "      <td>2</td>\n",
       "      <td>Headphones</td>\n",
       "      <td>Electronics</td>\n",
       "      <td>5</td>\n",
       "      <td>50</td>\n",
       "      <td>250</td>\n",
       "      <td>Canada</td>\n",
       "    </tr>\n",
       "    <tr>\n",
       "      <th>2</th>\n",
       "      <td>3</td>\n",
       "      <td>T-Shirt</td>\n",
       "      <td>Clothing</td>\n",
       "      <td>3</td>\n",
       "      <td>20</td>\n",
       "      <td>60</td>\n",
       "      <td>USA</td>\n",
       "    </tr>\n",
       "    <tr>\n",
       "      <th>3</th>\n",
       "      <td>4</td>\n",
       "      <td>Shoes</td>\n",
       "      <td>Clothing</td>\n",
       "      <td>1</td>\n",
       "      <td>100</td>\n",
       "      <td>100</td>\n",
       "      <td>UK</td>\n",
       "    </tr>\n",
       "    <tr>\n",
       "      <th>4</th>\n",
       "      <td>5</td>\n",
       "      <td>Phone Case</td>\n",
       "      <td>Accessories</td>\n",
       "      <td>4</td>\n",
       "      <td>15</td>\n",
       "      <td>60</td>\n",
       "      <td>Canada</td>\n",
       "    </tr>\n",
       "    <tr>\n",
       "      <th>5</th>\n",
       "      <td>6</td>\n",
       "      <td>Keyboard</td>\n",
       "      <td>Electronics</td>\n",
       "      <td>2</td>\n",
       "      <td>40</td>\n",
       "      <td>80</td>\n",
       "      <td>USA</td>\n",
       "    </tr>\n",
       "    <tr>\n",
       "      <th>6</th>\n",
       "      <td>7</td>\n",
       "      <td>Jacket</td>\n",
       "      <td>Clothing</td>\n",
       "      <td>2</td>\n",
       "      <td>60</td>\n",
       "      <td>120</td>\n",
       "      <td>UK</td>\n",
       "    </tr>\n",
       "    <tr>\n",
       "      <th>7</th>\n",
       "      <td>8</td>\n",
       "      <td>Smartwatch</td>\n",
       "      <td>Electronics</td>\n",
       "      <td>1</td>\n",
       "      <td>200</td>\n",
       "      <td>200</td>\n",
       "      <td>USA</td>\n",
       "    </tr>\n",
       "    <tr>\n",
       "      <th>8</th>\n",
       "      <td>9</td>\n",
       "      <td>Bag</td>\n",
       "      <td>Accessories</td>\n",
       "      <td>3</td>\n",
       "      <td>30</td>\n",
       "      <td>90</td>\n",
       "      <td>Canada</td>\n",
       "    </tr>\n",
       "    <tr>\n",
       "      <th>9</th>\n",
       "      <td>10</td>\n",
       "      <td>Monitor</td>\n",
       "      <td>Electronics</td>\n",
       "      <td>1</td>\n",
       "      <td>150</td>\n",
       "      <td>150</td>\n",
       "      <td>USA</td>\n",
       "    </tr>\n",
       "  </tbody>\n",
       "</table>\n",
       "</div>"
      ]
     },
     "execution_count": 6,
     "metadata": {},
     "output_type": "execute_result"
    }
   ],
   "execution_count": 6
  },
  {
   "metadata": {
    "ExecuteTime": {
     "end_time": "2025-08-21T07:02:47.783791Z",
     "start_time": "2025-08-21T07:02:47.776755Z"
    }
   },
   "cell_type": "code",
   "source": [
    "#print the 5 row\n",
    "df.head()"
   ],
   "id": "78bf5753b6d865b0",
   "outputs": [
    {
     "data": {
      "text/plain": [
       "   OrderID     Product     Category  Quantity  Price  Total_Sale Country\n",
       "0        1      Laptop  Electronics         2    800        1600     USA\n",
       "1        2  Headphones  Electronics         5     50         250  Canada\n",
       "2        3     T-Shirt     Clothing         3     20          60     USA\n",
       "3        4       Shoes     Clothing         1    100         100      UK\n",
       "4        5  Phone Case  Accessories         4     15          60  Canada"
      ],
      "text/html": [
       "<div>\n",
       "<style scoped>\n",
       "    .dataframe tbody tr th:only-of-type {\n",
       "        vertical-align: middle;\n",
       "    }\n",
       "\n",
       "    .dataframe tbody tr th {\n",
       "        vertical-align: top;\n",
       "    }\n",
       "\n",
       "    .dataframe thead th {\n",
       "        text-align: right;\n",
       "    }\n",
       "</style>\n",
       "<table border=\"1\" class=\"dataframe\">\n",
       "  <thead>\n",
       "    <tr style=\"text-align: right;\">\n",
       "      <th></th>\n",
       "      <th>OrderID</th>\n",
       "      <th>Product</th>\n",
       "      <th>Category</th>\n",
       "      <th>Quantity</th>\n",
       "      <th>Price</th>\n",
       "      <th>Total_Sale</th>\n",
       "      <th>Country</th>\n",
       "    </tr>\n",
       "  </thead>\n",
       "  <tbody>\n",
       "    <tr>\n",
       "      <th>0</th>\n",
       "      <td>1</td>\n",
       "      <td>Laptop</td>\n",
       "      <td>Electronics</td>\n",
       "      <td>2</td>\n",
       "      <td>800</td>\n",
       "      <td>1600</td>\n",
       "      <td>USA</td>\n",
       "    </tr>\n",
       "    <tr>\n",
       "      <th>1</th>\n",
       "      <td>2</td>\n",
       "      <td>Headphones</td>\n",
       "      <td>Electronics</td>\n",
       "      <td>5</td>\n",
       "      <td>50</td>\n",
       "      <td>250</td>\n",
       "      <td>Canada</td>\n",
       "    </tr>\n",
       "    <tr>\n",
       "      <th>2</th>\n",
       "      <td>3</td>\n",
       "      <td>T-Shirt</td>\n",
       "      <td>Clothing</td>\n",
       "      <td>3</td>\n",
       "      <td>20</td>\n",
       "      <td>60</td>\n",
       "      <td>USA</td>\n",
       "    </tr>\n",
       "    <tr>\n",
       "      <th>3</th>\n",
       "      <td>4</td>\n",
       "      <td>Shoes</td>\n",
       "      <td>Clothing</td>\n",
       "      <td>1</td>\n",
       "      <td>100</td>\n",
       "      <td>100</td>\n",
       "      <td>UK</td>\n",
       "    </tr>\n",
       "    <tr>\n",
       "      <th>4</th>\n",
       "      <td>5</td>\n",
       "      <td>Phone Case</td>\n",
       "      <td>Accessories</td>\n",
       "      <td>4</td>\n",
       "      <td>15</td>\n",
       "      <td>60</td>\n",
       "      <td>Canada</td>\n",
       "    </tr>\n",
       "  </tbody>\n",
       "</table>\n",
       "</div>"
      ]
     },
     "execution_count": 7,
     "metadata": {},
     "output_type": "execute_result"
    }
   ],
   "execution_count": 7
  },
  {
   "metadata": {},
   "cell_type": "markdown",
   "source": "## Task 2\n",
   "id": "853429c8b22bb142"
  },
  {
   "metadata": {
    "ExecuteTime": {
     "end_time": "2025-08-21T07:46:40.979428Z",
     "start_time": "2025-08-21T07:46:40.975734Z"
    }
   },
   "cell_type": "code",
   "source": [
    "#total number of order\n",
    "total_order = df['OrderID'].nunique()\n",
    "print(total_order)"
   ],
   "id": "4b1c144b1ff7bf9d",
   "outputs": [
    {
     "name": "stdout",
     "output_type": "stream",
     "text": [
      "10\n"
     ]
    }
   ],
   "execution_count": 12
  },
  {
   "metadata": {
    "ExecuteTime": {
     "end_time": "2025-08-21T07:57:48.375164Z",
     "start_time": "2025-08-21T07:57:48.370697Z"
    }
   },
   "cell_type": "code",
   "source": [
    "# Total Revenue\n",
    "total_rev = df['Total_Sale'].sum()\n",
    "print(total_rev)"
   ],
   "id": "62753f05c01e6000",
   "outputs": [
    {
     "name": "stdout",
     "output_type": "stream",
     "text": [
      "2710\n"
     ]
    }
   ],
   "execution_count": 14
  },
  {
   "metadata": {},
   "cell_type": "markdown",
   "source": "## Task 3",
   "id": "5a63377633229dff"
  },
  {
   "metadata": {
    "ExecuteTime": {
     "end_time": "2025-08-21T08:23:42.570810Z",
     "start_time": "2025-08-21T08:23:42.567944Z"
    }
   },
   "cell_type": "code",
   "source": [
    "# all order from usa\n",
    "dataUSA = df[df['Country'] == 'USA']"
   ],
   "id": "ba68cbfbd9d6210f",
   "outputs": [],
   "execution_count": 21
  },
  {
   "metadata": {
    "ExecuteTime": {
     "end_time": "2025-08-21T08:23:44.006208Z",
     "start_time": "2025-08-21T08:23:44.001172Z"
    }
   },
   "cell_type": "code",
   "source": "dataUSA",
   "id": "f5010c65401ff0c9",
   "outputs": [
    {
     "data": {
      "text/plain": [
       "   OrderID     Product     Category  Quantity  Price  Total_Sale Country\n",
       "0        1      Laptop  Electronics         2    800        1600     USA\n",
       "2        3     T-Shirt     Clothing         3     20          60     USA\n",
       "5        6    Keyboard  Electronics         2     40          80     USA\n",
       "7        8  Smartwatch  Electronics         1    200         200     USA\n",
       "9       10     Monitor  Electronics         1    150         150     USA"
      ],
      "text/html": [
       "<div>\n",
       "<style scoped>\n",
       "    .dataframe tbody tr th:only-of-type {\n",
       "        vertical-align: middle;\n",
       "    }\n",
       "\n",
       "    .dataframe tbody tr th {\n",
       "        vertical-align: top;\n",
       "    }\n",
       "\n",
       "    .dataframe thead th {\n",
       "        text-align: right;\n",
       "    }\n",
       "</style>\n",
       "<table border=\"1\" class=\"dataframe\">\n",
       "  <thead>\n",
       "    <tr style=\"text-align: right;\">\n",
       "      <th></th>\n",
       "      <th>OrderID</th>\n",
       "      <th>Product</th>\n",
       "      <th>Category</th>\n",
       "      <th>Quantity</th>\n",
       "      <th>Price</th>\n",
       "      <th>Total_Sale</th>\n",
       "      <th>Country</th>\n",
       "    </tr>\n",
       "  </thead>\n",
       "  <tbody>\n",
       "    <tr>\n",
       "      <th>0</th>\n",
       "      <td>1</td>\n",
       "      <td>Laptop</td>\n",
       "      <td>Electronics</td>\n",
       "      <td>2</td>\n",
       "      <td>800</td>\n",
       "      <td>1600</td>\n",
       "      <td>USA</td>\n",
       "    </tr>\n",
       "    <tr>\n",
       "      <th>2</th>\n",
       "      <td>3</td>\n",
       "      <td>T-Shirt</td>\n",
       "      <td>Clothing</td>\n",
       "      <td>3</td>\n",
       "      <td>20</td>\n",
       "      <td>60</td>\n",
       "      <td>USA</td>\n",
       "    </tr>\n",
       "    <tr>\n",
       "      <th>5</th>\n",
       "      <td>6</td>\n",
       "      <td>Keyboard</td>\n",
       "      <td>Electronics</td>\n",
       "      <td>2</td>\n",
       "      <td>40</td>\n",
       "      <td>80</td>\n",
       "      <td>USA</td>\n",
       "    </tr>\n",
       "    <tr>\n",
       "      <th>7</th>\n",
       "      <td>8</td>\n",
       "      <td>Smartwatch</td>\n",
       "      <td>Electronics</td>\n",
       "      <td>1</td>\n",
       "      <td>200</td>\n",
       "      <td>200</td>\n",
       "      <td>USA</td>\n",
       "    </tr>\n",
       "    <tr>\n",
       "      <th>9</th>\n",
       "      <td>10</td>\n",
       "      <td>Monitor</td>\n",
       "      <td>Electronics</td>\n",
       "      <td>1</td>\n",
       "      <td>150</td>\n",
       "      <td>150</td>\n",
       "      <td>USA</td>\n",
       "    </tr>\n",
       "  </tbody>\n",
       "</table>\n",
       "</div>"
      ]
     },
     "execution_count": 22,
     "metadata": {},
     "output_type": "execute_result"
    }
   ],
   "execution_count": 22
  },
  {
   "metadata": {
    "ExecuteTime": {
     "end_time": "2025-08-21T09:12:29.569811Z",
     "start_time": "2025-08-21T09:12:29.565468Z"
    }
   },
   "cell_type": "code",
   "source": [
    "#All the quantity above 2\n",
    "multi_order = df[df['Quantity'] > 2]\n",
    "print(multi_order)"
   ],
   "id": "cddd4f6e981e72d5",
   "outputs": [
    {
     "name": "stdout",
     "output_type": "stream",
     "text": [
      "   OrderID     Product     Category  Quantity  Price  Total_Sale Country\n",
      "1        2  Headphones  Electronics         5     50         250  Canada\n",
      "2        3     T-Shirt     Clothing         3     20          60     USA\n",
      "4        5  Phone Case  Accessories         4     15          60  Canada\n",
      "8        9         Bag  Accessories         3     30          90  Canada\n"
     ]
    }
   ],
   "execution_count": 23
  },
  {
   "metadata": {},
   "cell_type": "markdown",
   "source": "## Task 4\n",
   "id": "5c5d0d4c28f2db20"
  },
  {
   "metadata": {
    "ExecuteTime": {
     "end_time": "2025-08-21T09:27:28.447254Z",
     "start_time": "2025-08-21T09:27:28.441667Z"
    }
   },
   "cell_type": "code",
   "source": "df",
   "id": "c910e87b4c797fb7",
   "outputs": [
    {
     "data": {
      "text/plain": [
       "   OrderID     Product     Category  Quantity  Price  Total_Sale Country\n",
       "0        1      Laptop  Electronics         2    800        1600     USA\n",
       "1        2  Headphones  Electronics         5     50         250  Canada\n",
       "2        3     T-Shirt     Clothing         3     20          60     USA\n",
       "3        4       Shoes     Clothing         1    100         100      UK\n",
       "4        5  Phone Case  Accessories         4     15          60  Canada\n",
       "5        6    Keyboard  Electronics         2     40          80     USA\n",
       "6        7      Jacket     Clothing         2     60         120      UK\n",
       "7        8  Smartwatch  Electronics         1    200         200     USA\n",
       "8        9         Bag  Accessories         3     30          90  Canada\n",
       "9       10     Monitor  Electronics         1    150         150     USA"
      ],
      "text/html": [
       "<div>\n",
       "<style scoped>\n",
       "    .dataframe tbody tr th:only-of-type {\n",
       "        vertical-align: middle;\n",
       "    }\n",
       "\n",
       "    .dataframe tbody tr th {\n",
       "        vertical-align: top;\n",
       "    }\n",
       "\n",
       "    .dataframe thead th {\n",
       "        text-align: right;\n",
       "    }\n",
       "</style>\n",
       "<table border=\"1\" class=\"dataframe\">\n",
       "  <thead>\n",
       "    <tr style=\"text-align: right;\">\n",
       "      <th></th>\n",
       "      <th>OrderID</th>\n",
       "      <th>Product</th>\n",
       "      <th>Category</th>\n",
       "      <th>Quantity</th>\n",
       "      <th>Price</th>\n",
       "      <th>Total_Sale</th>\n",
       "      <th>Country</th>\n",
       "    </tr>\n",
       "  </thead>\n",
       "  <tbody>\n",
       "    <tr>\n",
       "      <th>0</th>\n",
       "      <td>1</td>\n",
       "      <td>Laptop</td>\n",
       "      <td>Electronics</td>\n",
       "      <td>2</td>\n",
       "      <td>800</td>\n",
       "      <td>1600</td>\n",
       "      <td>USA</td>\n",
       "    </tr>\n",
       "    <tr>\n",
       "      <th>1</th>\n",
       "      <td>2</td>\n",
       "      <td>Headphones</td>\n",
       "      <td>Electronics</td>\n",
       "      <td>5</td>\n",
       "      <td>50</td>\n",
       "      <td>250</td>\n",
       "      <td>Canada</td>\n",
       "    </tr>\n",
       "    <tr>\n",
       "      <th>2</th>\n",
       "      <td>3</td>\n",
       "      <td>T-Shirt</td>\n",
       "      <td>Clothing</td>\n",
       "      <td>3</td>\n",
       "      <td>20</td>\n",
       "      <td>60</td>\n",
       "      <td>USA</td>\n",
       "    </tr>\n",
       "    <tr>\n",
       "      <th>3</th>\n",
       "      <td>4</td>\n",
       "      <td>Shoes</td>\n",
       "      <td>Clothing</td>\n",
       "      <td>1</td>\n",
       "      <td>100</td>\n",
       "      <td>100</td>\n",
       "      <td>UK</td>\n",
       "    </tr>\n",
       "    <tr>\n",
       "      <th>4</th>\n",
       "      <td>5</td>\n",
       "      <td>Phone Case</td>\n",
       "      <td>Accessories</td>\n",
       "      <td>4</td>\n",
       "      <td>15</td>\n",
       "      <td>60</td>\n",
       "      <td>Canada</td>\n",
       "    </tr>\n",
       "    <tr>\n",
       "      <th>5</th>\n",
       "      <td>6</td>\n",
       "      <td>Keyboard</td>\n",
       "      <td>Electronics</td>\n",
       "      <td>2</td>\n",
       "      <td>40</td>\n",
       "      <td>80</td>\n",
       "      <td>USA</td>\n",
       "    </tr>\n",
       "    <tr>\n",
       "      <th>6</th>\n",
       "      <td>7</td>\n",
       "      <td>Jacket</td>\n",
       "      <td>Clothing</td>\n",
       "      <td>2</td>\n",
       "      <td>60</td>\n",
       "      <td>120</td>\n",
       "      <td>UK</td>\n",
       "    </tr>\n",
       "    <tr>\n",
       "      <th>7</th>\n",
       "      <td>8</td>\n",
       "      <td>Smartwatch</td>\n",
       "      <td>Electronics</td>\n",
       "      <td>1</td>\n",
       "      <td>200</td>\n",
       "      <td>200</td>\n",
       "      <td>USA</td>\n",
       "    </tr>\n",
       "    <tr>\n",
       "      <th>8</th>\n",
       "      <td>9</td>\n",
       "      <td>Bag</td>\n",
       "      <td>Accessories</td>\n",
       "      <td>3</td>\n",
       "      <td>30</td>\n",
       "      <td>90</td>\n",
       "      <td>Canada</td>\n",
       "    </tr>\n",
       "    <tr>\n",
       "      <th>9</th>\n",
       "      <td>10</td>\n",
       "      <td>Monitor</td>\n",
       "      <td>Electronics</td>\n",
       "      <td>1</td>\n",
       "      <td>150</td>\n",
       "      <td>150</td>\n",
       "      <td>USA</td>\n",
       "    </tr>\n",
       "  </tbody>\n",
       "</table>\n",
       "</div>"
      ]
     },
     "execution_count": 31,
     "metadata": {},
     "output_type": "execute_result"
    }
   ],
   "execution_count": 31
  },
  {
   "metadata": {
    "ExecuteTime": {
     "end_time": "2025-08-21T09:27:33.098287Z",
     "start_time": "2025-08-21T09:27:33.093807Z"
    }
   },
   "cell_type": "code",
   "source": [
    "#total sell by cat\n",
    "total_sellBy_category = df.groupby('Category')['Total_Sale'].sum().reset_index()\n",
    "print(total_sellBy_category)"
   ],
   "id": "80d4e186d98b681b",
   "outputs": [
    {
     "name": "stdout",
     "output_type": "stream",
     "text": [
      "      Category  Total_Sale\n",
      "0  Accessories         150\n",
      "1     Clothing         280\n",
      "2  Electronics        2280\n"
     ]
    }
   ],
   "execution_count": 32
  },
  {
   "metadata": {
    "ExecuteTime": {
     "end_time": "2025-08-21T09:28:31.142445Z",
     "start_time": "2025-08-21T09:28:31.136373Z"
    }
   },
   "cell_type": "code",
   "source": [
    "#total sell by county\n",
    "total_sellBy_county = df.groupby('Country')['Total_Sale'].sum().reset_index()\n",
    "print(total_sellBy_county)"
   ],
   "id": "762a382acb4a5199",
   "outputs": [
    {
     "name": "stdout",
     "output_type": "stream",
     "text": [
      "  Country  Total_Sale\n",
      "0  Canada         400\n",
      "1      UK         220\n",
      "2     USA        2090\n"
     ]
    }
   ],
   "execution_count": 35
  },
  {
   "metadata": {},
   "cell_type": "markdown",
   "source": "## Task 5\n",
   "id": "591441034bdca60e"
  },
  {
   "metadata": {
    "ExecuteTime": {
     "end_time": "2025-08-21T09:47:27.544962Z",
     "start_time": "2025-08-21T09:47:27.542520Z"
    }
   },
   "cell_type": "code",
   "source": "sorted_sales = df.sort_values(by=\"Total_Sale\", ascending=False)",
   "id": "e9d53178f82adc7d",
   "outputs": [],
   "execution_count": 36
  },
  {
   "metadata": {
    "ExecuteTime": {
     "end_time": "2025-08-21T09:47:30.161556Z",
     "start_time": "2025-08-21T09:47:30.155657Z"
    }
   },
   "cell_type": "code",
   "source": "sorted_sales",
   "id": "85f8bd475dde5e56",
   "outputs": [
    {
     "data": {
      "text/plain": [
       "   OrderID     Product     Category  Quantity  Price  Total_Sale Country\n",
       "0        1      Laptop  Electronics         2    800        1600     USA\n",
       "1        2  Headphones  Electronics         5     50         250  Canada\n",
       "7        8  Smartwatch  Electronics         1    200         200     USA\n",
       "9       10     Monitor  Electronics         1    150         150     USA\n",
       "6        7      Jacket     Clothing         2     60         120      UK\n",
       "3        4       Shoes     Clothing         1    100         100      UK\n",
       "8        9         Bag  Accessories         3     30          90  Canada\n",
       "5        6    Keyboard  Electronics         2     40          80     USA\n",
       "4        5  Phone Case  Accessories         4     15          60  Canada\n",
       "2        3     T-Shirt     Clothing         3     20          60     USA"
      ],
      "text/html": [
       "<div>\n",
       "<style scoped>\n",
       "    .dataframe tbody tr th:only-of-type {\n",
       "        vertical-align: middle;\n",
       "    }\n",
       "\n",
       "    .dataframe tbody tr th {\n",
       "        vertical-align: top;\n",
       "    }\n",
       "\n",
       "    .dataframe thead th {\n",
       "        text-align: right;\n",
       "    }\n",
       "</style>\n",
       "<table border=\"1\" class=\"dataframe\">\n",
       "  <thead>\n",
       "    <tr style=\"text-align: right;\">\n",
       "      <th></th>\n",
       "      <th>OrderID</th>\n",
       "      <th>Product</th>\n",
       "      <th>Category</th>\n",
       "      <th>Quantity</th>\n",
       "      <th>Price</th>\n",
       "      <th>Total_Sale</th>\n",
       "      <th>Country</th>\n",
       "    </tr>\n",
       "  </thead>\n",
       "  <tbody>\n",
       "    <tr>\n",
       "      <th>0</th>\n",
       "      <td>1</td>\n",
       "      <td>Laptop</td>\n",
       "      <td>Electronics</td>\n",
       "      <td>2</td>\n",
       "      <td>800</td>\n",
       "      <td>1600</td>\n",
       "      <td>USA</td>\n",
       "    </tr>\n",
       "    <tr>\n",
       "      <th>1</th>\n",
       "      <td>2</td>\n",
       "      <td>Headphones</td>\n",
       "      <td>Electronics</td>\n",
       "      <td>5</td>\n",
       "      <td>50</td>\n",
       "      <td>250</td>\n",
       "      <td>Canada</td>\n",
       "    </tr>\n",
       "    <tr>\n",
       "      <th>7</th>\n",
       "      <td>8</td>\n",
       "      <td>Smartwatch</td>\n",
       "      <td>Electronics</td>\n",
       "      <td>1</td>\n",
       "      <td>200</td>\n",
       "      <td>200</td>\n",
       "      <td>USA</td>\n",
       "    </tr>\n",
       "    <tr>\n",
       "      <th>9</th>\n",
       "      <td>10</td>\n",
       "      <td>Monitor</td>\n",
       "      <td>Electronics</td>\n",
       "      <td>1</td>\n",
       "      <td>150</td>\n",
       "      <td>150</td>\n",
       "      <td>USA</td>\n",
       "    </tr>\n",
       "    <tr>\n",
       "      <th>6</th>\n",
       "      <td>7</td>\n",
       "      <td>Jacket</td>\n",
       "      <td>Clothing</td>\n",
       "      <td>2</td>\n",
       "      <td>60</td>\n",
       "      <td>120</td>\n",
       "      <td>UK</td>\n",
       "    </tr>\n",
       "    <tr>\n",
       "      <th>3</th>\n",
       "      <td>4</td>\n",
       "      <td>Shoes</td>\n",
       "      <td>Clothing</td>\n",
       "      <td>1</td>\n",
       "      <td>100</td>\n",
       "      <td>100</td>\n",
       "      <td>UK</td>\n",
       "    </tr>\n",
       "    <tr>\n",
       "      <th>8</th>\n",
       "      <td>9</td>\n",
       "      <td>Bag</td>\n",
       "      <td>Accessories</td>\n",
       "      <td>3</td>\n",
       "      <td>30</td>\n",
       "      <td>90</td>\n",
       "      <td>Canada</td>\n",
       "    </tr>\n",
       "    <tr>\n",
       "      <th>5</th>\n",
       "      <td>6</td>\n",
       "      <td>Keyboard</td>\n",
       "      <td>Electronics</td>\n",
       "      <td>2</td>\n",
       "      <td>40</td>\n",
       "      <td>80</td>\n",
       "      <td>USA</td>\n",
       "    </tr>\n",
       "    <tr>\n",
       "      <th>4</th>\n",
       "      <td>5</td>\n",
       "      <td>Phone Case</td>\n",
       "      <td>Accessories</td>\n",
       "      <td>4</td>\n",
       "      <td>15</td>\n",
       "      <td>60</td>\n",
       "      <td>Canada</td>\n",
       "    </tr>\n",
       "    <tr>\n",
       "      <th>2</th>\n",
       "      <td>3</td>\n",
       "      <td>T-Shirt</td>\n",
       "      <td>Clothing</td>\n",
       "      <td>3</td>\n",
       "      <td>20</td>\n",
       "      <td>60</td>\n",
       "      <td>USA</td>\n",
       "    </tr>\n",
       "  </tbody>\n",
       "</table>\n",
       "</div>"
      ]
     },
     "execution_count": 37,
     "metadata": {},
     "output_type": "execute_result"
    }
   ],
   "execution_count": 37
  },
  {
   "metadata": {
    "ExecuteTime": {
     "end_time": "2025-08-21T09:48:33.488538Z",
     "start_time": "2025-08-21T09:48:33.482014Z"
    }
   },
   "cell_type": "code",
   "source": [
    "#top_sales\n",
    "sorted_sales.head(3)"
   ],
   "id": "70c509b636f8aba1",
   "outputs": [
    {
     "data": {
      "text/plain": [
       "   OrderID     Product     Category  Quantity  Price  Total_Sale Country\n",
       "0        1      Laptop  Electronics         2    800        1600     USA\n",
       "1        2  Headphones  Electronics         5     50         250  Canada\n",
       "7        8  Smartwatch  Electronics         1    200         200     USA"
      ],
      "text/html": [
       "<div>\n",
       "<style scoped>\n",
       "    .dataframe tbody tr th:only-of-type {\n",
       "        vertical-align: middle;\n",
       "    }\n",
       "\n",
       "    .dataframe tbody tr th {\n",
       "        vertical-align: top;\n",
       "    }\n",
       "\n",
       "    .dataframe thead th {\n",
       "        text-align: right;\n",
       "    }\n",
       "</style>\n",
       "<table border=\"1\" class=\"dataframe\">\n",
       "  <thead>\n",
       "    <tr style=\"text-align: right;\">\n",
       "      <th></th>\n",
       "      <th>OrderID</th>\n",
       "      <th>Product</th>\n",
       "      <th>Category</th>\n",
       "      <th>Quantity</th>\n",
       "      <th>Price</th>\n",
       "      <th>Total_Sale</th>\n",
       "      <th>Country</th>\n",
       "    </tr>\n",
       "  </thead>\n",
       "  <tbody>\n",
       "    <tr>\n",
       "      <th>0</th>\n",
       "      <td>1</td>\n",
       "      <td>Laptop</td>\n",
       "      <td>Electronics</td>\n",
       "      <td>2</td>\n",
       "      <td>800</td>\n",
       "      <td>1600</td>\n",
       "      <td>USA</td>\n",
       "    </tr>\n",
       "    <tr>\n",
       "      <th>1</th>\n",
       "      <td>2</td>\n",
       "      <td>Headphones</td>\n",
       "      <td>Electronics</td>\n",
       "      <td>5</td>\n",
       "      <td>50</td>\n",
       "      <td>250</td>\n",
       "      <td>Canada</td>\n",
       "    </tr>\n",
       "    <tr>\n",
       "      <th>7</th>\n",
       "      <td>8</td>\n",
       "      <td>Smartwatch</td>\n",
       "      <td>Electronics</td>\n",
       "      <td>1</td>\n",
       "      <td>200</td>\n",
       "      <td>200</td>\n",
       "      <td>USA</td>\n",
       "    </tr>\n",
       "  </tbody>\n",
       "</table>\n",
       "</div>"
      ]
     },
     "execution_count": 38,
     "metadata": {},
     "output_type": "execute_result"
    }
   ],
   "execution_count": 38
  }
 ],
 "metadata": {
  "kernelspec": {
   "display_name": "Python 3",
   "language": "python",
   "name": "python3"
  },
  "language_info": {
   "codemirror_mode": {
    "name": "ipython",
    "version": 2
   },
   "file_extension": ".py",
   "mimetype": "text/x-python",
   "name": "python",
   "nbconvert_exporter": "python",
   "pygments_lexer": "ipython2",
   "version": "2.7.6"
  }
 },
 "nbformat": 4,
 "nbformat_minor": 5
}
