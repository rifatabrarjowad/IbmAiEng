{
 "cells": [
  {
   "metadata": {},
   "cell_type": "markdown",
   "source": [
    "# Assignment 3: Fitness Tracking Analysis\n",
    "\n",
    "## 📌 Overview\n",
    "In this assignment, you will analyze a fitness tracking dataset using **Pandas** and **NumPy** only.\n",
    "The dataset `fitness_tracking.csv` contains daily activity data such as steps, distance, active minutes, calories, and heart rate.\n",
    "\n",
    "Your goal is to practice:\n",
    "- Cleaning and preparing data with Pandas and NumPy\n",
    "- Handling missing values\n",
    "- Creating new features\n",
    "- Detecting outliers with NumPy\n",
    "- Aggregating and ranking data with Pandas\n",
    "\n",
    "---\n",
    "\n",
    "## 📊 Dataset Description\n",
    "The dataset contains the following columns:\n",
    "\n",
    "- **Date** → Day of the activity\n",
    "- **DayOfWeek** → Day name (e.g., Monday, Tuesday)\n",
    "- **Steps** → Number of steps taken\n",
    "- **Distance_km** → Distance covered in kilometers\n",
    "- **Active_Minutes** → Number of active minutes\n",
    "- **Calories** → Calories burned\n",
    "- **HeartRate_Avg** → Average heart rate\n",
    "\n",
    "---\n",
    "\n",
    "## 📝 Tasks\n",
    "\n",
    "### Task 1: Load and Inspect Data\n",
    "- Load the dataset into Pandas.\n",
    "- Display the first 5 rows.\n",
    "- Show the shape and data types of the dataset.\n",
    "- Count missing values in each column.\n",
    "\n",
    "---\n",
    "\n",
    "### Task 2: Handle Missing Data\n",
    "- Use **NumPy** to replace missing numeric values with the column mean.\n",
    "\n",
    "---\n",
    "\n",
    "### Task 3: Feature Engineering\n",
    "- Create a new column `Cals_per_Min` = `Calories / Active_Minutes` (handle divide-by-zero safely using NumPy).\n",
    "- Create a new column `Intense_Day` = `True` if `Steps >= 10,000`, else `False`.\n",
    "\n",
    "---\n",
    "\n",
    "### Task 4: Outlier Detection\n",
    "- Using NumPy, calculate **z-scores** for `Steps` and `Calories`:\n",
    "  \\[\n",
    "  z = \\frac{x - \\text{mean}}{\\text{std}}\n",
    "  \\]\n",
    "- Create boolean columns `Steps_Outlier` and `Calories_Outlier` where `|z| > 2`.\n",
    "\n",
    "---\n",
    "\n",
    "### Task 5: Aggregation and Ranking\n",
    "- Group the data by `DayOfWeek` and calculate the average `Steps`, `Calories`, and `Cals_per_Min`.\n",
    "- Find the **top 3 days** (dates) with the highest number of steps.\n"
   ],
   "id": "bf495c855854700d"
  },
  {
   "metadata": {},
   "cell_type": "markdown",
   "source": "# Assignment 3 — Solution: Fitness Tracking ML Project\n",
   "id": "6a23ca2002c4cc62"
  },
  {
   "metadata": {},
   "cell_type": "code",
   "outputs": [],
   "execution_count": null,
   "source": "",
   "id": "1face95bafb27bb"
  }
 ],
 "metadata": {
  "kernelspec": {
   "display_name": "Python 3",
   "language": "python",
   "name": "python3"
  },
  "language_info": {
   "codemirror_mode": {
    "name": "ipython",
    "version": 2
   },
   "file_extension": ".py",
   "mimetype": "text/x-python",
   "name": "python",
   "nbconvert_exporter": "python",
   "pygments_lexer": "ipython2",
   "version": "2.7.6"
  }
 },
 "nbformat": 4,
 "nbformat_minor": 5
}
