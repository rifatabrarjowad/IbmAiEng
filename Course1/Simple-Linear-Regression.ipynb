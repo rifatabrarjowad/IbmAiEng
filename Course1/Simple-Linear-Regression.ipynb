{
 "cells": [
  {
   "metadata": {},
   "cell_type": "code",
   "outputs": [],
   "execution_count": null,
   "source": "",
   "id": "5354e8b7c2d4b453"
  }
 ],
 "metadata": {},
 "nbformat": 4,
 "nbformat_minor": 5
}
