{
 "cells": [
  {
   "cell_type": "code",
   "id": "initial_id",
   "metadata": {
    "collapsed": true,
    "ExecuteTime": {
     "end_time": "2025-08-18T09:18:41.972507Z",
     "start_time": "2025-08-18T09:18:41.886188Z"
    }
   },
   "source": "import numpy as np",
   "outputs": [],
   "execution_count": 1
  },
  {
   "metadata": {
    "ExecuteTime": {
     "end_time": "2025-08-18T09:23:30.744675Z",
     "start_time": "2025-08-18T09:23:30.739593Z"
    }
   },
   "cell_type": "code",
   "source": [
    "#checking numpy version\n",
    "print(np.__version__)"
   ],
   "id": "e2f406fa70af22d7",
   "outputs": [
    {
     "name": "stdout",
     "output_type": "stream",
     "text": [
      "2.2.0\n"
     ]
    }
   ],
   "execution_count": 2
  },
  {
   "metadata": {
    "ExecuteTime": {
     "end_time": "2025-08-18T09:24:39.157068Z",
     "start_time": "2025-08-18T09:24:39.153547Z"
    }
   },
   "cell_type": "code",
   "source": [
    "# creating array\n",
    "a = np.array([1,2,3,4,5])\n",
    "print(a)"
   ],
   "id": "865cf1796e62e27b",
   "outputs": [
    {
     "name": "stdout",
     "output_type": "stream",
     "text": [
      "[1 2 3 4 5]\n"
     ]
    }
   ],
   "execution_count": 5
  },
  {
   "metadata": {
    "ExecuteTime": {
     "end_time": "2025-08-18T09:25:57.475309Z",
     "start_time": "2025-08-18T09:25:57.472634Z"
    }
   },
   "cell_type": "code",
   "source": [
    "print(a.shape)\n",
    "print(a.dtype)\n",
    "print(a.ndim)\n",
    "print(a.size)\n",
    "print(a.itemsize)"
   ],
   "id": "25efd550f2704813",
   "outputs": [
    {
     "name": "stdout",
     "output_type": "stream",
     "text": [
      "(5,)\n",
      "int64\n",
      "1\n",
      "5\n",
      "8\n"
     ]
    }
   ],
   "execution_count": 7
  },
  {
   "metadata": {
    "ExecuteTime": {
     "end_time": "2025-08-18T09:27:11.357339Z",
     "start_time": "2025-08-18T09:27:11.354372Z"
    }
   },
   "cell_type": "code",
   "source": [
    "#updating array\n",
    "a[1] = 10\n",
    "print(a)"
   ],
   "id": "51687e8204a04562",
   "outputs": [
    {
     "name": "stdout",
     "output_type": "stream",
     "text": [
      "[ 1 10  3  4  5]\n"
     ]
    }
   ],
   "execution_count": 8
  },
  {
   "metadata": {
    "ExecuteTime": {
     "end_time": "2025-08-18T09:37:08.414434Z",
     "start_time": "2025-08-18T09:37:08.411567Z"
    }
   },
   "cell_type": "code",
   "source": [
    "#Creating another array to multiple\n",
    "b = a * np.array([6,7,8,9,10])\n",
    "print(b)"
   ],
   "id": "3e8c60143211c2ce",
   "outputs": [
    {
     "name": "stdout",
     "output_type": "stream",
     "text": [
      "[ 6 70 24 36 50]\n"
     ]
    }
   ],
   "execution_count": 10
  },
  {
   "metadata": {
    "ExecuteTime": {
     "end_time": "2025-08-18T10:02:15.674460Z",
     "start_time": "2025-08-18T10:02:15.669767Z"
    }
   },
   "cell_type": "code",
   "source": [
    "# for dot product numpy is cool\n",
    "#in basic python\n",
    "l1 = [1,2,3]\n",
    "l2 = [4,5,6]\n",
    "dot = 0\n",
    "for i in range (len(l1)):\n",
    "    dot += l1[i] * l2[i]\n",
    "print(dot)"
   ],
   "id": "7bc2784878e113b1",
   "outputs": [
    {
     "name": "stdout",
     "output_type": "stream",
     "text": [
      "32\n"
     ]
    }
   ],
   "execution_count": 16
  },
  {
   "metadata": {
    "ExecuteTime": {
     "end_time": "2025-08-18T10:02:16.853612Z",
     "start_time": "2025-08-18T10:02:16.850913Z"
    }
   },
   "cell_type": "code",
   "source": [
    "# in numpy we can do this one line\n",
    "numPD = np.dot(l1,l2)\n",
    "print(numPD)"
   ],
   "id": "b429dfc7804efc75",
   "outputs": [
    {
     "name": "stdout",
     "output_type": "stream",
     "text": [
      "32\n"
     ]
    }
   ],
   "execution_count": 17
  },
  {
   "metadata": {
    "ExecuteTime": {
     "end_time": "2025-08-18T10:11:14.492023Z",
     "start_time": "2025-08-18T10:11:14.488066Z"
    }
   },
   "cell_type": "code",
   "source": [
    "# There so many option lets look another\n",
    "a1= np.array(l1)\n",
    "a2= np.array(l2)\n",
    "sum1 = a1 * a2\n",
    "dot = np.sum(sum1)\n",
    "print(dot)"
   ],
   "id": "5804a65f07ca33d9",
   "outputs": [
    {
     "name": "stdout",
     "output_type": "stream",
     "text": [
      "32\n"
     ]
    }
   ],
   "execution_count": 21
  },
  {
   "metadata": {},
   "cell_type": "code",
   "outputs": [],
   "execution_count": null,
   "source": "",
   "id": "2dd23dddb14a4d3e"
  }
 ],
 "metadata": {
  "kernelspec": {
   "display_name": "Python 3",
   "language": "python",
   "name": "python3"
  },
  "language_info": {
   "codemirror_mode": {
    "name": "ipython",
    "version": 2
   },
   "file_extension": ".py",
   "mimetype": "text/x-python",
   "name": "python",
   "nbconvert_exporter": "python",
   "pygments_lexer": "ipython2",
   "version": "2.7.6"
  }
 },
 "nbformat": 4,
 "nbformat_minor": 5
}
