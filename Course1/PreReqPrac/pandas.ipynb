{
 "cells": [
  {
   "cell_type": "code",
   "id": "initial_id",
   "metadata": {
    "collapsed": true,
    "ExecuteTime": {
     "end_time": "2025-08-20T08:10:53.620036Z",
     "start_time": "2025-08-20T08:10:53.185508Z"
    }
   },
   "source": "import pandas as pd",
   "outputs": [],
   "execution_count": 1
  },
  {
   "metadata": {},
   "cell_type": "markdown",
   "source": [
    "# Key data structures in Pandas\n",
    "* Series\n",
    "* Dataframe"
   ],
   "id": "9ed60ba925d4572"
  },
  {
   "metadata": {
    "ExecuteTime": {
     "end_time": "2025-08-20T08:13:41.183841Z",
     "start_time": "2025-08-20T08:13:41.180995Z"
    }
   },
   "cell_type": "code",
   "source": "s = pd.Series([1,2,3,4,5])\n",
   "id": "349001e38c65ccea",
   "outputs": [],
   "execution_count": 2
  },
  {
   "metadata": {
    "ExecuteTime": {
     "end_time": "2025-08-20T08:13:43.665546Z",
     "start_time": "2025-08-20T08:13:43.659317Z"
    }
   },
   "cell_type": "code",
   "source": "s",
   "id": "a990f2a702001f8e",
   "outputs": [
    {
     "data": {
      "text/plain": [
       "0    1\n",
       "1    2\n",
       "2    3\n",
       "3    4\n",
       "4    5\n",
       "dtype: int64"
      ]
     },
     "execution_count": 3,
     "metadata": {},
     "output_type": "execute_result"
    }
   ],
   "execution_count": 3
  },
  {
   "metadata": {
    "ExecuteTime": {
     "end_time": "2025-08-20T09:06:56.890006Z",
     "start_time": "2025-08-20T09:06:56.884952Z"
    }
   },
   "cell_type": "code",
   "source": [
    "# trying to add index\n",
    "p = pd.Series([1,2,3,4,5], index=['a','b','c','d','e'])\n",
    "p"
   ],
   "id": "42dc67e9aef9d895",
   "outputs": [
    {
     "data": {
      "text/plain": [
       "a    1\n",
       "b    2\n",
       "c    3\n",
       "d    4\n",
       "e    5\n",
       "dtype: int64"
      ]
     },
     "execution_count": 5,
     "metadata": {},
     "output_type": "execute_result"
    }
   ],
   "execution_count": 5
  },
  {
   "metadata": {
    "ExecuteTime": {
     "end_time": "2025-08-20T09:13:52.744265Z",
     "start_time": "2025-08-20T09:13:52.739108Z"
    }
   },
   "cell_type": "code",
   "source": [
    "df = pd.DataFrame({'names':['Rifat','Abrar','Jowad'],'marks':[100,87,88]})\n",
    "df"
   ],
   "id": "d0782b4481d2cf9",
   "outputs": [
    {
     "data": {
      "text/plain": [
       "   names  marks\n",
       "0  Rifat    100\n",
       "1  Abrar     87\n",
       "2  Jowad     88"
      ],
      "text/html": [
       "<div>\n",
       "<style scoped>\n",
       "    .dataframe tbody tr th:only-of-type {\n",
       "        vertical-align: middle;\n",
       "    }\n",
       "\n",
       "    .dataframe tbody tr th {\n",
       "        vertical-align: top;\n",
       "    }\n",
       "\n",
       "    .dataframe thead th {\n",
       "        text-align: right;\n",
       "    }\n",
       "</style>\n",
       "<table border=\"1\" class=\"dataframe\">\n",
       "  <thead>\n",
       "    <tr style=\"text-align: right;\">\n",
       "      <th></th>\n",
       "      <th>names</th>\n",
       "      <th>marks</th>\n",
       "    </tr>\n",
       "  </thead>\n",
       "  <tbody>\n",
       "    <tr>\n",
       "      <th>0</th>\n",
       "      <td>Rifat</td>\n",
       "      <td>100</td>\n",
       "    </tr>\n",
       "    <tr>\n",
       "      <th>1</th>\n",
       "      <td>Abrar</td>\n",
       "      <td>87</td>\n",
       "    </tr>\n",
       "    <tr>\n",
       "      <th>2</th>\n",
       "      <td>Jowad</td>\n",
       "      <td>88</td>\n",
       "    </tr>\n",
       "  </tbody>\n",
       "</table>\n",
       "</div>"
      ]
     },
     "execution_count": 9,
     "metadata": {},
     "output_type": "execute_result"
    }
   ],
   "execution_count": 9
  },
  {
   "metadata": {},
   "cell_type": "code",
   "outputs": [],
   "execution_count": null,
   "source": "",
   "id": "80437093fd80b22e"
  }
 ],
 "metadata": {
  "kernelspec": {
   "display_name": "Python 3",
   "language": "python",
   "name": "python3"
  },
  "language_info": {
   "codemirror_mode": {
    "name": "ipython",
    "version": 2
   },
   "file_extension": ".py",
   "mimetype": "text/x-python",
   "name": "python",
   "nbconvert_exporter": "python",
   "pygments_lexer": "ipython2",
   "version": "2.7.6"
  }
 },
 "nbformat": 4,
 "nbformat_minor": 5
}
